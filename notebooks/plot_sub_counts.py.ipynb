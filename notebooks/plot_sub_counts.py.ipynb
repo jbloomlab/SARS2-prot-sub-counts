{
 "cells": [
  {
   "cell_type": "markdown",
   "id": "5e49cb85-3b4c-4bc0-b758-ff6669d73907",
   "metadata": {},
   "source": [
    "# Plot substitution counts\n",
    "\n",
    "Import Python modules:"
   ]
  },
  {
   "cell_type": "code",
   "execution_count": null,
   "id": "41a3c74d-c1a4-4d31-8eb1-cd19267a6398",
   "metadata": {
    "tags": []
   },
   "outputs": [],
   "source": [
    "import os\n",
    "\n",
    "import altair as alt\n",
    "\n",
    "import Bio.SeqIO\n",
    "\n",
    "import pandas as pd"
   ]
  },
  {
   "cell_type": "markdown",
   "id": "daae349e-7155-480c-affe-a9a9064119eb",
   "metadata": {},
   "source": [
    "Get variables from `snakemake`:"
   ]
  },
  {
   "cell_type": "code",
   "execution_count": null,
   "id": "c15cca47-24f9-4d1f-8aac-5e6d42b07a58",
   "metadata": {
    "tags": []
   },
   "outputs": [],
   "source": [
    "sub_counts_csv = snakemake.input.sub_counts_csv\n",
    "ref_prots_fasta = snakemake.input.ref_prots\n",
    "sub_count_plotsdir = snakemake.output.sub_count_plotsdir"
   ]
  },
  {
   "cell_type": "markdown",
   "id": "9e1e61eb-8d4c-4388-9af6-d5cb6e3d3df5",
   "metadata": {},
   "source": [
    "Read substitution counts:"
   ]
  },
  {
   "cell_type": "code",
   "execution_count": null,
   "id": "624c25df-4f9a-4450-8bbe-47aa6c4bc288",
   "metadata": {
    "tags": []
   },
   "outputs": [],
   "source": [
    "sub_counts = pd.read_csv(sub_counts_csv)\n",
    "\n",
    "sub_counts"
   ]
  },
  {
   "cell_type": "markdown",
   "id": "6a7115b2-ab54-4fd9-9a75-ba9366e71209",
   "metadata": {},
   "source": [
    "Get reference sites and amino acid identity:"
   ]
  },
  {
   "cell_type": "code",
   "execution_count": null,
   "id": "6bac42cc-963c-418d-9f51-d9e9a1d7a16b",
   "metadata": {
    "tags": []
   },
   "outputs": [],
   "source": [
    "ref_sites = pd.concat(\n",
    "    [\n",
    "        pd.DataFrame(\n",
    "            enumerate(str(seq.seq), start=1),\n",
    "            columns=[\"site\", \"reference_aa\"],\n",
    "        ).assign(protein=seq.id)\n",
    "        for seq in Bio.SeqIO.parse(ref_prots_fasta, \"fasta\")\n",
    "    ],\n",
    "    ignore_index=True\n",
    ")"
   ]
  },
  {
   "cell_type": "markdown",
   "id": "e4810e12-3663-4a99-b772-7c3cffcd66f0",
   "metadata": {},
   "source": [
    "Get data frame with counts and sites:"
   ]
  },
  {
   "cell_type": "code",
   "execution_count": null,
   "id": "2cdd3409-499b-438f-abf9-dd3e913c30c1",
   "metadata": {
    "tags": []
   },
   "outputs": [],
   "source": [
    "df = (\n",
    "    ref_sites\n",
    "    .merge(sub_counts, how=\"outer\", validate=\"one_to_many\", on=[\"site\", \"protein\"])\n",
    "    .assign(\n",
    "        count=lambda x: x[\"count\"].fillna(0).astype(int),\n",
    "        sub_to=lambda x: x[\"substitution\"].str[-1],\n",
    "        substitution_to=lambda x: x.apply(\n",
    "            lambda r: f\"{r['sub_to']} ({r['count']})\" if r[\"count\"] else \"\", axis=1,\n",
    "        ),\n",
    "    )\n",
    "    .sort_values(\"count\", ascending=False)\n",
    "    .groupby([\"protein\", \"site\", \"reference_aa\"], as_index=False, sort=True)\n",
    "    .aggregate(\n",
    "        count=pd.NamedAgg(\"count\", \"sum\"),\n",
    "        substitution_to=pd.NamedAgg(\"substitution_to\", lambda s: \", \".join(s.values)),\n",
    "    )\n",
    ")\n",
    "\n",
    "df"
   ]
  },
  {
   "cell_type": "markdown",
   "id": "7cff314c-fcc7-4c19-92a6-9802fd287111",
   "metadata": {
    "execution": {
     "iopub.execute_input": "2022-08-15T16:44:44.715007Z",
     "iopub.status.busy": "2022-08-15T16:44:44.714529Z",
     "iopub.status.idle": "2022-08-15T16:44:44.721160Z",
     "shell.execute_reply": "2022-08-15T16:44:44.720194Z",
     "shell.execute_reply.started": "2022-08-15T16:44:44.714963Z"
    },
    "tags": []
   },
   "source": [
    "Now make the plots:"
   ]
  },
  {
   "cell_type": "code",
   "execution_count": null,
   "id": "1fd68fd8-6aed-4294-b4ad-04bc4f3119f6",
   "metadata": {
    "tags": []
   },
   "outputs": [],
   "source": [
    "alt.data_transformers.disable_max_rows()\n",
    "\n",
    "os.makedirs(sub_count_plotsdir, exist_ok=True)\n",
    "\n",
    "for prot, prot_df in df.groupby(\"protein\"):\n",
    "\n",
    "    zoom_brush = alt.selection_interval(\n",
    "        encodings=[\"x\"],\n",
    "        mark=alt.BrushConfig(stroke=\"black\", strokeWidth=2)\n",
    "    )\n",
    "    \n",
    "    zoom_bar = (\n",
    "        alt.Chart(prot_df[[\"site\"]].drop_duplicates())\n",
    "        .mark_rect(color=\"gray\")\n",
    "        .encode(x=alt.X(\"site:O\"))\n",
    "        .add_selection(zoom_brush)\n",
    "        .properties(\n",
    "            height=15,\n",
    "            width=min(400, 3 * len(prot_df)),\n",
    "            title=\"site zoom bar\",\n",
    "        )\n",
    "    )\n",
    "    \n",
    "    lineplot = (\n",
    "        alt.Chart(prot_df)\n",
    "        .encode(\n",
    "            x=alt.X(\"site:O\"),\n",
    "            y=alt.Y(\"count:Q\", scale=alt.Scale(type=\"symlog\", constant=50)),\n",
    "            tooltip=prot_df.columns.tolist(),\n",
    "        )\n",
    "        .mark_line(point=True, size=1)\n",
    "        .properties(\n",
    "            width=3 * len(prot_df),\n",
    "            height=200,\n",
    "            title=f\"{prot} protein\",\n",
    "        )\n",
    "        .add_selection(zoom_brush)\n",
    "        .transform_filter(zoom_brush)\n",
    "    )\n",
    "    \n",
    "    chart = (lineplot & zoom_bar).configure_title(anchor=\"start\").configure_axis(labelOverlap=\"parity\")\n",
    "    display(chart)\n",
    "    \n",
    "    outfile = os.path.join(sub_count_plotsdir, f\"{prot}.html\")\n",
    "    print(f\"Saving to {outfile}\")\n",
    "    \n",
    "    chart.save(outfile)"
   ]
  },
  {
   "cell_type": "code",
   "execution_count": null,
   "id": "c23a0084-09ef-443d-8274-31898775cf18",
   "metadata": {},
   "outputs": [],
   "source": []
  }
 ],
 "metadata": {
  "kernelspec": {
   "display_name": "Python 3 (ipykernel)",
   "language": "python",
   "name": "python3"
  },
  "language_info": {
   "codemirror_mode": {
    "name": "ipython",
    "version": 3
   },
   "file_extension": ".py",
   "mimetype": "text/x-python",
   "name": "python",
   "nbconvert_exporter": "python",
   "pygments_lexer": "ipython3",
   "version": "3.8.12"
  }
 },
 "nbformat": 4,
 "nbformat_minor": 5
}
